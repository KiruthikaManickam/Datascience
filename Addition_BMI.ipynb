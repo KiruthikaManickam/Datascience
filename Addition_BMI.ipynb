{
 "cells": [
  {
   "cell_type": "code",
   "execution_count": 2,
   "id": "14e25108-64ac-4979-af93-b454908be4e4",
   "metadata": {},
   "outputs": [
    {
     "name": "stdin",
     "output_type": "stream",
     "text": [
      "Enter the first number 10\n",
      "Enter the second number 21\n"
     ]
    },
    {
     "name": "stdout",
     "output_type": "stream",
     "text": [
      "Addition is :  31\n"
     ]
    }
   ],
   "source": [
    "num1=int(input(\"Enter the first number\"))\n",
    "num2=int(input(\"Enter the second number\"))\n",
    "print(\"Addition is : \",num1+num2)"
   ]
  },
  {
   "cell_type": "code",
   "execution_count": null,
   "id": "d1c5259e-7e23-4fe1-8db1-60e48f22f52e",
   "metadata": {},
   "outputs": [],
   "source": [
    "# BMI Program:\n"
   ]
  },
  {
   "cell_type": "code",
   "execution_count": 9,
   "id": "befc2580-4cd0-4d9f-9926-5cc6ae50d1a4",
   "metadata": {},
   "outputs": [
    {
     "name": "stdin",
     "output_type": "stream",
     "text": [
      "Enter your height(in cm) : 147\n",
      "Enter your weight(in kg) : 70\n"
     ]
    },
    {
     "name": "stdout",
     "output_type": "stream",
     "text": [
      "Your BMI is: Obesity Class 1\n"
     ]
    }
   ],
   "source": [
    "height=float(input(\"Enter your height(in cm) :\"))\n",
    "weight=float(input(\"Enter your weight(in kg) :\"))\n",
    "height_calc=(height/100)**2\n",
    "bmi=weight/height_calc;\n",
    "if(bmi<18.5):\n",
    "  print(\"Your BMI is : UnderWeight\")\n",
    "elif(bmi>18.5 and bmi<25):\n",
    "     print(\"Your BMI is: Normal Weight\")\n",
    "elif(bmi>=25 and bmi<30):\n",
    "     print(\"Your BMI is: Over Weight\")\n",
    "elif(bmi>=30 and bmi<35):\n",
    "     print(\"Your BMI is: Obesity Class 1\")\n",
    "elif(bmi>=35 and bmi<40):\n",
    "     print(\"Your BMI is: Obesity Class 2\")\n",
    "elif(bmi>=40):\n",
    "     print(\"Your BMI is: Extreme Obesity\")    "
   ]
  },
  {
   "cell_type": "code",
   "execution_count": null,
   "id": "06ef87af-df44-4528-880d-cfb6a6e747f8",
   "metadata": {},
   "outputs": [],
   "source": []
  }
 ],
 "metadata": {
  "kernelspec": {
   "display_name": "Python 3 (ipykernel)",
   "language": "python",
   "name": "python3"
  },
  "language_info": {
   "codemirror_mode": {
    "name": "ipython",
    "version": 3
   },
   "file_extension": ".py",
   "mimetype": "text/x-python",
   "name": "python",
   "nbconvert_exporter": "python",
   "pygments_lexer": "ipython3",
   "version": "3.12.4"
  }
 },
 "nbformat": 4,
 "nbformat_minor": 5
}
