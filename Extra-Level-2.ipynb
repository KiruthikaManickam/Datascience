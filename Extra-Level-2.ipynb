{
 "cells": [
  {
   "cell_type": "code",
   "execution_count": 4,
   "id": "d44b8809-7ad6-45d4-9c08-fc258dcf7ef1",
   "metadata": {},
   "outputs": [
    {
     "name": "stdout",
     "output_type": "stream",
     "text": [
      "0\n",
      "1\n",
      "2\n",
      "3\n",
      "4\n",
      "5\n",
      "6\n",
      "7\n",
      "8\n",
      "9\n",
      "10\n",
      "11\n",
      "12\n",
      "13\n",
      "14\n",
      "15\n",
      "16\n",
      "17\n",
      "18\n",
      "19\n"
     ]
    }
   ],
   "source": [
    "for num in range(0,20):\n",
    "  print(num)"
   ]
  },
  {
   "cell_type": "code",
   "execution_count": 5,
   "id": "1286c3c1-56d6-47a5-8f72-41e9bbd0bec3",
   "metadata": {},
   "outputs": [
    {
     "name": "stdout",
     "output_type": "stream",
     "text": [
      "10\n",
      "11\n",
      "12\n",
      "13\n",
      "14\n",
      "15\n",
      "16\n",
      "17\n",
      "18\n",
      "19\n"
     ]
    }
   ],
   "source": [
    "for num in range(10,20):\n",
    "  print(num)"
   ]
  },
  {
   "cell_type": "code",
   "execution_count": 7,
   "id": "33bcdd60-dfa7-47c6-b214-daf868a8b26f",
   "metadata": {},
   "outputs": [
    {
     "name": "stdout",
     "output_type": "stream",
     "text": [
      "8\n"
     ]
    }
   ],
   "source": [
    "mylist=[10,20,30,40,50,60,89,28]\n",
    "print(len(mylist))"
   ]
  },
  {
   "cell_type": "code",
   "execution_count": 10,
   "id": "3487587a-50b4-43ff-b7c3-66e3350c1541",
   "metadata": {},
   "outputs": [
    {
     "name": "stdout",
     "output_type": "stream",
     "text": [
      "A\n",
      "r\n",
      "t\n",
      "i\n",
      "f\n",
      "i\n",
      "c\n",
      "i\n",
      "a\n",
      "l\n",
      " \n",
      "I\n",
      "n\n",
      "t\n",
      "e\n",
      "l\n",
      "l\n",
      "i\n",
      "g\n",
      "e\n",
      "n\n",
      "c\n",
      "e\n"
     ]
    }
   ],
   "source": [
    "c_name=str(\"Artificial Intelligence\")\n",
    "for name in c_name:\n",
    "  print(name)"
   ]
  },
  {
   "cell_type": "code",
   "execution_count": 1,
   "id": "5a69389f-0a88-4eb6-ab67-e73fb5a0b684",
   "metadata": {},
   "outputs": [
    {
     "name": "stdout",
     "output_type": "stream",
     "text": [
      "10 is Even\n",
      "32 is Even\n",
      "54 is Even\n",
      "42 is Even\n",
      "76 is Even\n"
     ]
    }
   ],
   "source": [
    "#Print Even numbers in the list\n",
    "numbers=[10,32,54,21,55,99,42,76]\n",
    "for num in numbers:\n",
    "    if(num%2==0):\n",
    "      print(num,\"is Even\")\n",
    "   \n",
    "    \n"
   ]
  },
  {
   "cell_type": "code",
   "execution_count": 2,
   "id": "301cac71-d7fa-435e-b608-ae5ad64959ff",
   "metadata": {},
   "outputs": [
    {
     "name": "stdout",
     "output_type": "stream",
     "text": [
      "21 is Odd\n",
      "55 is Odd\n",
      "99 is Odd\n"
     ]
    }
   ],
   "source": [
    "#Print Odd numbers in the list\n",
    "numbers=[10,32,54,21,55,99,42,76]\n",
    "for num in numbers:\n",
    "    if(num%2!=0):\n",
    "      print(num,\"is Odd\")"
   ]
  },
  {
   "cell_type": "code",
   "execution_count": 6,
   "id": "bcc9fa47-0566-4b3f-9ba5-d3b62a8c6edd",
   "metadata": {},
   "outputs": [
    {
     "name": "stdout",
     "output_type": "stream",
     "text": [
      "(1, 'Welcome', 2, 'Hope')\n"
     ]
    }
   ],
   "source": [
    "tuple_set1=tuple((1,\"Welcome\",2,\"Hope\"))\n",
    "print(tuple_set1)\n"
   ]
  },
  {
   "cell_type": "code",
   "execution_count": 9,
   "id": "00f707e8-20ed-457e-b09b-32c4acac73cd",
   "metadata": {},
   "outputs": [
    {
     "name": "stdout",
     "output_type": "stream",
     "text": [
      "((1, 2, 3, 4), ('Welcome', 'Hope'), ('Python', 7))\n"
     ]
    }
   ],
   "source": [
    "tuple_set1=tuple(((1,2,3,4),(\"Welcome\",\"Hope\"),(\"Python\",7)))\n",
    "print(tuple_set1)"
   ]
  },
  {
   "cell_type": "code",
   "execution_count": null,
   "id": "291fa3f3-bc23-48df-b194-e36ed29db4cb",
   "metadata": {},
   "outputs": [],
   "source": []
  }
 ],
 "metadata": {
  "kernelspec": {
   "display_name": "Python 3 (ipykernel)",
   "language": "python",
   "name": "python3"
  },
  "language_info": {
   "codemirror_mode": {
    "name": "ipython",
    "version": 3
   },
   "file_extension": ".py",
   "mimetype": "text/x-python",
   "name": "python",
   "nbconvert_exporter": "python",
   "pygments_lexer": "ipython3",
   "version": "3.12.4"
  }
 },
 "nbformat": 4,
 "nbformat_minor": 5
}
