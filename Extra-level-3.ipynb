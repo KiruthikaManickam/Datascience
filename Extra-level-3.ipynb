{
 "cells": [
  {
   "cell_type": "code",
   "execution_count": 2,
   "id": "ef9f0913-7eef-480e-ba6e-10572014d4ea",
   "metadata": {},
   "outputs": [
    {
     "name": "stdin",
     "output_type": "stream",
     "text": [
      "Enter the number:  10\n"
     ]
    },
    {
     "name": "stdout",
     "output_type": "stream",
     "text": [
      "Correct\n"
     ]
    }
   ],
   "source": [
    "choice=int(input(\"Enter the Value: \"))\n",
    "if(choice==10):\n",
    "    print(\"Correct\")\n",
    "\n"
   ]
  },
  {
   "cell_type": "code",
   "execution_count": 5,
   "id": "3233a2df-217c-482e-8700-040ef4d5ebc5",
   "metadata": {},
   "outputs": [
    {
     "name": "stdin",
     "output_type": "stream",
     "text": [
      "Enter the Password HOPE@123\n"
     ]
    },
    {
     "name": "stdout",
     "output_type": "stream",
     "text": [
      "Your Password is correct\n"
     ]
    }
   ],
   "source": [
    "passwd=input(\"Enter the Password\")\n",
    "if(passwd==\"HOPE@123\"):\n",
    "  print(\"Your Password is correct\")\n",
    "else:\n",
    "    print(\"Your Password is Wrong\")"
   ]
  },
  {
   "cell_type": "code",
   "execution_count": 9,
   "id": "946260b7-5b43-4846-8a08-6fed884b7774",
   "metadata": {},
   "outputs": [
    {
     "name": "stdin",
     "output_type": "stream",
     "text": [
      "Enter the AGE 19\n"
     ]
    },
    {
     "name": "stdout",
     "output_type": "stream",
     "text": [
      "You are an Adult\n"
     ]
    }
   ],
   "source": [
    "age=int(input(\"Enter the AGE\"));\n",
    "if(age<18):\n",
    "  print(\"You are a Child\")\n",
    "elif(age<=35):\n",
    "    print(\"You are an Adult\")\n",
    "elif(age<=60):\n",
    "    print(\"You are a Citizen\")\n",
    "elif(age>60):\n",
    "    print(\"You are a Senior Citizen\")\n",
    "\n",
    "  \n"
   ]
  },
  {
   "cell_type": "code",
   "execution_count": 15,
   "id": "4089750f-a180-48aa-a592-622021a83d5a",
   "metadata": {},
   "outputs": [
    {
     "name": "stdin",
     "output_type": "stream",
     "text": [
      "Enter the Number -8\n"
     ]
    },
    {
     "name": "stdout",
     "output_type": "stream",
     "text": [
      "The Number is Negative\n"
     ]
    }
   ],
   "source": [
    "number=int(input(\"Enter the Number\"))\n",
    "if(number<0):\n",
    "           print(\"The Number is Negative\")\n",
    "elif(number==0):\n",
    "           print(\"The Number is Zero\")\n",
    "else:\n",
    "           print(\"The Number is Positive\")\n"
   ]
  },
  {
   "cell_type": "code",
   "execution_count": 17,
   "id": "ca3b0a7e-7c00-45f3-865f-3251db1332c1",
   "metadata": {},
   "outputs": [
    {
     "name": "stdin",
     "output_type": "stream",
     "text": [
      "Enter the number : 80\n"
     ]
    },
    {
     "name": "stdout",
     "output_type": "stream",
     "text": [
      "This number is divisable by 5\n"
     ]
    }
   ],
   "source": [
    "number=int(input(\"Enter the number :\"))\n",
    "if(number%5==0):\n",
    "    print(\"This number is divisable by 5\")\n",
    "else:\n",
    "    print(\"This number is not divisable by 5\")\n",
    "    \n",
    "        "
   ]
  },
  {
   "cell_type": "code",
   "execution_count": null,
   "id": "50c49d1e-7299-4804-97ec-a93a4d77f480",
   "metadata": {},
   "outputs": [],
   "source": []
  }
 ],
 "metadata": {
  "kernelspec": {
   "display_name": "Python 3 (ipykernel)",
   "language": "python",
   "name": "python3"
  },
  "language_info": {
   "codemirror_mode": {
    "name": "ipython",
    "version": 3
   },
   "file_extension": ".py",
   "mimetype": "text/x-python",
   "name": "python",
   "nbconvert_exporter": "python",
   "pygments_lexer": "ipython3",
   "version": "3.12.4"
  }
 },
 "nbformat": 4,
 "nbformat_minor": 5
}
