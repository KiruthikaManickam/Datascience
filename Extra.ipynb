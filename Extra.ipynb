{
 "cells": [
  {
   "cell_type": "code",
   "execution_count": 1,
   "id": "39ff2055-dcf9-4c3b-b2f8-610024e98daf",
   "metadata": {},
   "outputs": [
    {
     "name": "stdout",
     "output_type": "stream",
     "text": [
      "HOPE AI\n"
     ]
    }
   ],
   "source": [
    "print(\"HOPE AI\")"
   ]
  },
  {
   "cell_type": "code",
   "execution_count": 2,
   "id": "dbe0175a-5db2-44e8-b571-01ad2d0d6bcf",
   "metadata": {},
   "outputs": [
    {
     "name": "stdin",
     "output_type": "stream",
     "text": [
      "Enter the institute name : HOPE AI\n"
     ]
    }
   ],
   "source": [
    "institute=input(\"Enter the institute name :\")\n"
   ]
  },
  {
   "cell_type": "code",
   "execution_count": 4,
   "id": "9ab957a7-af55-4bbc-8b72-743625ae8fe0",
   "metadata": {},
   "outputs": [
    {
     "name": "stdin",
     "output_type": "stream",
     "text": [
      "Enter your name :  M.Kiruthika\n",
      "Enter your age :  34\n",
      "Enter your school name :  Vellalar Matric hr sec school\n",
      "Enter your Degree : MCA\n"
     ]
    }
   ],
   "source": [
    "name=input(\"Enter your name : \")\n",
    "age=input(\"Enter your age : \")\n",
    "school=input(\"Enter your school name : \")\n",
    "deg=input(\"Enter your Degree :\")\n"
   ]
  },
  {
   "cell_type": "code",
   "execution_count": 6,
   "id": "a8b884d9-3344-40b9-a39c-61fabd06fa11",
   "metadata": {},
   "outputs": [
    {
     "name": "stdin",
     "output_type": "stream",
     "text": [
      "Enter first number :  45\n",
      "Enter second number :  23\n"
     ]
    },
    {
     "name": "stdout",
     "output_type": "stream",
     "text": [
      "Addition is :  68\n"
     ]
    }
   ],
   "source": [
    "num1=int(input(\"Enter first number : \"))\n",
    "num2=int(input(\"Enter second number : \"))\n",
    "print(\"Addition is : \",num1+num2)"
   ]
  },
  {
   "cell_type": "code",
   "execution_count": 7,
   "id": "c775cb20-d61c-457b-a3b9-00b63df1eaa7",
   "metadata": {},
   "outputs": [
    {
     "name": "stdin",
     "output_type": "stream",
     "text": [
      "Enter first number :  45\n",
      "Enter second number :  8\n"
     ]
    },
    {
     "name": "stdout",
     "output_type": "stream",
     "text": [
      "Subraction is :  37\n"
     ]
    }
   ],
   "source": [
    "num1=int(input(\"Enter first number : \"))\n",
    "num2=int(input(\"Enter second number : \"))\n",
    "print(\"Subraction is : \",num1-num2)"
   ]
  },
  {
   "cell_type": "code",
   "execution_count": 8,
   "id": "cbe01981-e06f-4233-a5d2-ad0fe832e102",
   "metadata": {},
   "outputs": [
    {
     "name": "stdin",
     "output_type": "stream",
     "text": [
      "Enter first number :  12\n",
      "Enter second number :  12\n"
     ]
    },
    {
     "name": "stdout",
     "output_type": "stream",
     "text": [
      "Multiplication is :  144\n"
     ]
    }
   ],
   "source": [
    "num1=int(input(\"Enter first number : \"))\n",
    "num2=int(input(\"Enter second number : \"))\n",
    "print(\"Multiplication is : \",num1*num2)"
   ]
  },
  {
   "cell_type": "code",
   "execution_count": 1,
   "id": "a1a19245-c1b4-47cb-abb2-c94944124eb5",
   "metadata": {},
   "outputs": [
    {
     "name": "stdin",
     "output_type": "stream",
     "text": [
      "Enter first number :  5\n",
      "Enter second number :  3\n"
     ]
    },
    {
     "name": "stdout",
     "output_type": "stream",
     "text": [
      "Div is :  1.6666666666666667\n"
     ]
    }
   ],
   "source": [
    "num1=int(input(\"Enter first number : \"))\n",
    "num2=int(input(\"Enter second number : \"))\n",
    "num3=float(num1/num2)\n",
    "print(\"Div is : \",num3)"
   ]
  },
  {
   "cell_type": "code",
   "execution_count": 3,
   "id": "b9928cc1-9b51-48b4-bfcc-41a7f1080951",
   "metadata": {},
   "outputs": [
    {
     "name": "stdin",
     "output_type": "stream",
     "text": [
      "Enter first number :  5\n",
      "Enter second number :  4\n"
     ]
    },
    {
     "name": "stdout",
     "output_type": "stream",
     "text": [
      "Div is :  1\n"
     ]
    }
   ],
   "source": [
    "from math import floor\n",
    "num1=int(input(\"Enter first number : \"))\n",
    "num2=int(input(\"Enter second number : \"))\n",
    "num3=floor(num1/num2)\n",
    "print(\"Div is : \",num3)"
   ]
  },
  {
   "cell_type": "code",
   "execution_count": 4,
   "id": "22fd34a8-90bb-438b-844a-14d7e3999f0a",
   "metadata": {},
   "outputs": [
    {
     "name": "stdin",
     "output_type": "stream",
     "text": [
      "Enter first number :  34\n",
      "Enter second number :  12\n"
     ]
    },
    {
     "name": "stdout",
     "output_type": "stream",
     "text": [
      "Div is :  10\n"
     ]
    }
   ],
   "source": [
    "\n",
    "num1=int(input(\"Enter first number : \"))\n",
    "num2=int(input(\"Enter second number : \"))\n",
    "num3=(num1%num2)\n",
    "print(\"Modulo is : \",num3)"
   ]
  },
  {
   "cell_type": "code",
   "execution_count": 7,
   "id": "a8587769-e05c-49f0-8a42-697cf2dba672",
   "metadata": {},
   "outputs": [
    {
     "name": "stdin",
     "output_type": "stream",
     "text": [
      "Enter first number :  2\n",
      "Enter second number :  3\n"
     ]
    },
    {
     "name": "stdout",
     "output_type": "stream",
     "text": [
      "Power :  8\n"
     ]
    }
   ],
   "source": [
    "num1=int(input(\"Enter first number : \"))\n",
    "num2=int(input(\"Enter second number : \"))\n",
    "num3=(num1**num2)\n",
    "print(\"Power : \",num3)"
   ]
  },
  {
   "cell_type": "code",
   "execution_count": null,
   "id": "72097ac0-d383-49cb-b8f1-acc16cfa1f8b",
   "metadata": {},
   "outputs": [],
   "source": []
  }
 ],
 "metadata": {
  "kernelspec": {
   "display_name": "Python 3 (ipykernel)",
   "language": "python",
   "name": "python3"
  },
  "language_info": {
   "codemirror_mode": {
    "name": "ipython",
    "version": 3
   },
   "file_extension": ".py",
   "mimetype": "text/x-python",
   "name": "python",
   "nbconvert_exporter": "python",
   "pygments_lexer": "ipython3",
   "version": "3.12.4"
  }
 },
 "nbformat": 4,
 "nbformat_minor": 5
}
