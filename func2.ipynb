{
 "cells": [
  {
   "cell_type": "code",
   "execution_count": 2,
   "id": "1172fa9d-2482-4c78-bdb0-70a2f5e13b11",
   "metadata": {},
   "outputs": [
    {
     "name": "stdin",
     "output_type": "stream",
     "text": [
      "Enter your Gender Male\n",
      "Enter your age 45\n"
     ]
    },
    {
     "name": "stdout",
     "output_type": "stream",
     "text": [
      "Eligible for Marriage\n"
     ]
    }
   ],
   "source": [
    "\n",
    "def MaleGen():\n",
    "    age=int(input(\"Enter your age\"))\n",
    "    if age<21:\n",
    "        print(\"Not Eligible for Marriage\")\n",
    "    else:\n",
    "        print(\"Eligible for Marriage\")\n",
    "\n",
    "def FemaleGen():\n",
    "    age=int(input(\"Enter your age\"))\n",
    "    if age<18:\n",
    "        print(\"Not Eligible for Marriage\")\n",
    "    else:\n",
    "        print(\"Eligible for Marriage\")\n",
    "\n",
    "\n",
    "gender=input(\"Enter your Gender\")\n",
    "if gender==\"Male\":\n",
    "    MaleGen()\n",
    "elif gender==\"Female\":\n",
    "    FemaleGen()\n",
    "else:\n",
    "    print(\"Invalid Gender\")"
   ]
  },
  {
   "cell_type": "code",
   "execution_count": 6,
   "id": "6d7edff1-be28-481e-b17d-59364f0b64ee",
   "metadata": {},
   "outputs": [
    {
     "name": "stdin",
     "output_type": "stream",
     "text": [
      "Enter the number 23\n"
     ]
    },
    {
     "name": "stdout",
     "output_type": "stream",
     "text": [
      "23 is Odd Number\n"
     ]
    }
   ],
   "source": [
    "def OddEven():\n",
    "    if (num%2)==0:\n",
    "        print(num,\"is Even number\")\n",
    "    else :\n",
    "        print(num,\"is Odd Number\")\n",
    "\n",
    "\n",
    "num=int(input(\"Enter the number\"))\n",
    "OddEven()\n",
    "\n"
   ]
  },
  {
   "cell_type": "code",
   "execution_count": 9,
   "id": "222749c6-ed4b-422b-8f5e-a918bdd8e7a2",
   "metadata": {},
   "outputs": [
    {
     "name": "stdin",
     "output_type": "stream",
     "text": [
      "Enter the Tamil mark 67\n",
      "Enter the English mark 45\n",
      "Enter the Maths mark 78\n",
      "Enter the Social science mark 69\n",
      "Enter the Science mark 80\n"
     ]
    },
    {
     "name": "stdout",
     "output_type": "stream",
     "text": [
      "Total: 339\n",
      "Percentage : 67.80000000000001\n"
     ]
    }
   ],
   "source": [
    "def Calc_Percentage():\n",
    "    total=tam+eng+math+ss+sci\n",
    "    percentage=(total/500)*100\n",
    "    print(\"Total:\",total)\n",
    "    print(\"Percentage :\",percentage)\n",
    "\n",
    "tam=int(input(\"Enter the Tamil mark\"))\n",
    "eng=int(input(\"Enter the English mark\"))\n",
    "math=int(input(\"Enter the Maths mark\"))\n",
    "ss=int(input(\"Enter the Social science mark\"))\n",
    "sci=int(input(\"Enter the Science mark\"))\n",
    "Calc_Percentage()\n"
   ]
  },
  {
   "cell_type": "code",
   "execution_count": 11,
   "id": "6e80f470-8a54-4980-8d81-c490733a438b",
   "metadata": {},
   "outputs": [
    {
     "name": "stdin",
     "output_type": "stream",
     "text": [
      "Enter the height1 12\n",
      "Enter the height2 10\n",
      "Enter the breadth 24\n"
     ]
    },
    {
     "name": "stdout",
     "output_type": "stream",
     "text": [
      "Area of a Triangle is : 144.0\n",
      "Perimeter of a Triangle is : 46\n"
     ]
    }
   ],
   "source": [
    "def area():\n",
    "    area=(height1*breadth)/2\n",
    "    print(\"Area of a Triangle is :\",area)\n",
    "\n",
    "def perimeter():\n",
    "    perimeter=height1+height2+breadth\n",
    "    print(\"Perimeter of a Triangle is :\",perimeter)\n",
    "\n",
    "\n",
    "\n",
    "height1=int(input(\"Enter the height1\"))\n",
    "height2=int(input(\"Enter the height2\"))\n",
    "breadth=int(input(\"Enter the breadth\"))\n",
    "area()\n",
    "perimeter()\n",
    "            \n",
    "\n",
    "            "
   ]
  },
  {
   "cell_type": "code",
   "execution_count": null,
   "id": "b3dce4bb-4e21-4f45-a684-906d48c290a6",
   "metadata": {},
   "outputs": [],
   "source": []
  }
 ],
 "metadata": {
  "kernelspec": {
   "display_name": "Python 3 (ipykernel)",
   "language": "python",
   "name": "python3"
  },
  "language_info": {
   "codemirror_mode": {
    "name": "ipython",
    "version": 3
   },
   "file_extension": ".py",
   "mimetype": "text/x-python",
   "name": "python",
   "nbconvert_exporter": "python",
   "pygments_lexer": "ipython3",
   "version": "3.12.4"
  }
 },
 "nbformat": 4,
 "nbformat_minor": 5
}
